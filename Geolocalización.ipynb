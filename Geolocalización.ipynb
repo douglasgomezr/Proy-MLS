{
 "cells": [
  {
   "cell_type": "markdown",
   "metadata": {},
   "source": [
    "# Proyecto Final \n",
    "\n",
    "### Curso de Python Científico versión 6\n",
    "\n",
    "**[Miriam López Solis](miriamls2802@hotmail.com)**\n",
    "\n",
    "### Ejericicio: Geolocalización\n",
    ">> 1. Solicitar un par de coordenadas geográficas en latitud y longitud en grados sexagesimales decimales\n",
    ">> 2. Calcular la distancia entre los dos puntos:\n",
    "$d(AB)^2 = (x_2 - x_1)^2 + (y_2 - y_1)^2$\n",
    ">> 3. Escribir los resultados en [cm], [m] y [km].\n",
    ">> 4. Calcular el tiempo que tarda un peatón y automóvil que viajan a una velocidad $2[\\frac{km}{h}]$ y $60[\\frac{km}{h}]$, respectivamente, en recorrer la distacia $d(AB)$.\n",
    "\n",
    "### Solución\n",
    "#### Metodología \n",
    "\n",
    "Las coordendas geográficas del punto A corresponden a la Torre BBVA Bancomer. El punto B es el Edificio de Sismología de Exploración del Instituto Mexicano del Petróleo (Fig. 1).\n",
    "\n",
    "**A(Lat/Lon)**: 19.4228°,-99.1749°\n",
    "\n",
    "**B(Lat/Lon)**: 19.4893°,-99.1478°\n",
    "\n",
    "La forma más sencilla de calcular la distancia entre dos puntos en coordenadas geográficas es convertir las ubicaciones a coordendas a `UTM` ([Universal Transversal de Mercator](https://es.wikipedia.org/wiki/Sistema_de_coordenadas_universal_transversal_de_Mercator)) con base en el geoide [WGS-84](https://es.wikipedia.org/wiki/WGS84). Para esto, ocupamos la biblioteca de `Python` [utm](https://pypi.org/project/utm/)"
   ]
  },
  {
   "cell_type": "markdown",
   "metadata": {},
   "source": [
    "<img src =\"torre_bbva_imp.png\" alt=\"drawing\" style=\"float:center;width:800px;height:550px;border:left;\"/>"
   ]
  },
  {
   "cell_type": "markdown",
   "metadata": {},
   "source": [
    "<font size=2 color=black>**Figura 1.** Mapa. Ubicación de los Puntos A (Torre BBVA Bancomer) y B (Sismología-IMP). </font>"
   ]
  },
  {
   "cell_type": "code",
   "execution_count": 2,
   "metadata": {},
   "outputs": [],
   "source": [
    "import utm\n",
    "import numpy as np"
   ]
  },
  {
   "cell_type": "markdown",
   "metadata": {},
   "source": [
    "### Convertir de coordenadas geográficas a coordendas UTM-WGS84"
   ]
  },
  {
   "cell_type": "code",
   "execution_count": 3,
   "metadata": {},
   "outputs": [],
   "source": [
    "#Coordendas geográficas\n",
    "pa = (19.4228,-99.1749) #Coordenadas Torre BBVA Bancomer \n",
    "pb = (19.4893,-99.1478) #Coordenadas Edificio Sismología de Exploración del Instituto Mexicano del Petróleo"
   ]
  },
  {
   "cell_type": "code",
   "execution_count": 4,
   "metadata": {},
   "outputs": [],
   "source": [
    "#Coordenadas UTM-WGS84\n",
    "A = utm.from_latlon(pa[0],pa[1])\n",
    "B = utm.from_latlon(pb[0],pb[1])"
   ]
  },
  {
   "cell_type": "code",
   "execution_count": 5,
   "metadata": {},
   "outputs": [
    {
     "name": "stdout",
     "output_type": "stream",
     "text": [
      "Punto A (UTM-WGS84) =  481638.7633 2147619.7327\n",
      "Punto B (UTM-WGS84) =  484490.0856 2154975.5319\n"
     ]
    }
   ],
   "source": [
    "print('Punto A (UTM-WGS84) = ', np.round(A[0],4), np.round(A[1],4))\n",
    "print('Punto B (UTM-WGS84) = ', np.round(B[0],4), np.round(B[1],4))"
   ]
  },
  {
   "cell_type": "markdown",
   "metadata": {},
   "source": [
    "### Cálculo de la distancia entre los puntos A y B"
   ]
  },
  {
   "cell_type": "code",
   "execution_count": 6,
   "metadata": {},
   "outputs": [],
   "source": [
    "AB = np.sqrt(np.power((B[0]-A[0]),2)+np.power((B[1]-A[1]),2))"
   ]
  },
  {
   "cell_type": "code",
   "execution_count": 7,
   "metadata": {},
   "outputs": [
    {
     "name": "stdout",
     "output_type": "stream",
     "text": [
      "Distancia AB [centímetros] =  788909.51 [cm]\n",
      "Distancia AB [metros] =  7889.0951 [m]\n",
      "Distancia AB [kilómetros] =  7.8890951 [km]\n"
     ]
    }
   ],
   "source": [
    "print('Distancia AB [centímetros] = ', np.round(AB,4)*100, '[cm]')\n",
    "print('Distancia AB [metros] = ', np.round(AB,4), '[m]')\n",
    "print('Distancia AB [kilómetros] = ', np.round(AB,4)/1000, '[km]')"
   ]
  },
  {
   "cell_type": "markdown",
   "metadata": {},
   "source": [
    "### Tiempo de viaje entre los puntos A y B"
   ]
  },
  {
   "cell_type": "code",
   "execution_count": 8,
   "metadata": {},
   "outputs": [],
   "source": [
    "velp_mxs = 0.2778 * 20 #Velocidad en metros por segundo\n",
    "vela_mxs = 0.2778 * 20 #Velocidad en metros por segundo"
   ]
  },
  {
   "cell_type": "markdown",
   "metadata": {},
   "source": [
    "#### Velocidad del peatón y automóvil en km/h y m/s"
   ]
  },
  {
   "cell_type": "code",
   "execution_count": 9,
   "metadata": {},
   "outputs": [
    {
     "name": "stdout",
     "output_type": "stream",
     "text": [
      "Velocidad peatón en km/h =  20 [m/s]\n",
      "Velocidad peatón en m/s =  5.556 [m/s]\n",
      "Velocidad automóvil en km/h =  60 [m/s]\n",
      "Velocidad automóvil en m/s =  5.556 [m/s]\n"
     ]
    }
   ],
   "source": [
    "print('Velocidad peatón en km/h = ', 20, '[m/s]')\n",
    "print('Velocidad peatón en m/s = ', velp_mxs, '[m/s]')\n",
    "print('Velocidad automóvil en km/h = ', 60, '[m/s]')\n",
    "print('Velocidad automóvil en m/s = ', vela_mxs, '[m/s]')"
   ]
  },
  {
   "cell_type": "code",
   "execution_count": 10,
   "metadata": {},
   "outputs": [],
   "source": [
    "tiempo_peaton = np.round(AB,4)/velp_mxs\n",
    "tiempo_auto = np.round(AB,4)/vela_mxs"
   ]
  },
  {
   "cell_type": "markdown",
   "metadata": {},
   "source": [
    "#### Tiempo de viaje del peatón y automóvil en segundos, minutos y horas"
   ]
  },
  {
   "cell_type": "code",
   "execution_count": 11,
   "metadata": {},
   "outputs": [
    {
     "name": "stdout",
     "output_type": "stream",
     "text": [
      "Tiempo peatón [segundos] =  1419.9235 [s]\n",
      "Tiempo peatón [minutos] =  23.6654 [min]\n",
      "Tiempo peatón [horas] =  0.3944 [min]\n",
      "Tiempo automóvil [segundos] =  1419.9235 [s]\n",
      "Tiempo automóvil [minutos] =  23.6654 [min]\n",
      "Tiempo automóvil [horas] =  0.3944 [min]\n"
     ]
    }
   ],
   "source": [
    "#Tiempo de viaje del peatón\n",
    "print('Tiempo peatón [segundos] = ', np.round(tiempo_peaton,4), '[s]')\n",
    "print('Tiempo peatón [minutos] = ', np.round(tiempo_peaton/60,4), '[min]')\n",
    "print('Tiempo peatón [horas] = ', np.round((tiempo_peaton/60)/60,4), '[min]')\n",
    "#Tiempo de viaje del automóvil\n",
    "print('Tiempo automóvil [segundos] = ', np.round(tiempo_auto,4), '[s]')\n",
    "print('Tiempo automóvil [minutos] = ', np.round(tiempo_auto/60,4), '[min]')\n",
    "print('Tiempo automóvil [horas] = ', np.round((tiempo_auto/60)/60,4), '[min]')"
   ]
  }
 ],
 "metadata": {
  "kernelspec": {
   "display_name": "Python 3",
   "language": "python",
   "name": "python3"
  },
  "language_info": {
   "codemirror_mode": {
    "name": "ipython",
    "version": 3
   },
   "file_extension": ".py",
   "mimetype": "text/x-python",
   "name": "python",
   "nbconvert_exporter": "python",
   "pygments_lexer": "ipython3",
   "version": "3.7.0"
  }
 },
 "nbformat": 4,
 "nbformat_minor": 2
}
